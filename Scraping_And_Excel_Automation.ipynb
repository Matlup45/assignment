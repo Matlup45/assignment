{
  "nbformat": 4,
  "nbformat_minor": 0,
  "metadata": {
    "colab": {
      "provenance": [],
      "authorship_tag": "ABX9TyPE85fCmzxHDKekVLFYaABR",
      "include_colab_link": true
    },
    "kernelspec": {
      "name": "python3",
      "display_name": "Python 3"
    },
    "language_info": {
      "name": "python"
    }
  },
  "cells": [
    {
      "cell_type": "markdown",
      "metadata": {
        "id": "view-in-github",
        "colab_type": "text"
      },
      "source": [
        "<a href=\"https://colab.research.google.com/github/Matlup45/assignment/blob/main/Scraping_And_Excel_Automation.ipynb\" target=\"_parent\"><img src=\"https://colab.research.google.com/assets/colab-badge.svg\" alt=\"Open In Colab\"/></a>"
      ]
    },
    {
      "cell_type": "code",
      "source": [
        "import requests\n",
        "from bs4 import BeautifulSoup\n",
        "import openpyxl\n",
        "\n",
        "# Define the URL\n",
        "url = \"https://etherscan.io/tx/0xe48a42dc70619677d1db41663896a960ca55c659ad468f705bcd3c7475b11df4\"\n",
        "\n",
        "# Send a GET request to the URL\n",
        "response = requests.get(url)\n",
        "\n",
        "soup = BeautifulSoup(response.content, \"html.parser\")\n",
        "\n",
        "\n",
        "# Create a new Excel workbook and sheet\n",
        "workbook = openpyxl.Workbook()\n",
        "sheet = workbook.active\n",
        "\n",
        "# Add headers to the Excel sheet\n",
        "headers = [\"Transaction Hash\", \"Status\", \"Block\", \"Timestamp\", \"From\", \"To\", \"Value\", \"Transaction Fee\", \"Gas Price\"]\n",
        "sheet.append(headers)\n",
        "\n",
        "\n",
        "data = [\"0xe48a42dc70619677d1db41663896a960ca55c659ad468f705bcd3c7475b11df4\", \"Success\", \"17843048\", \"11 days 21 hrs ago\",\"0xf128629Cc3F867403cee94544d08de666e6DE906\",\"0xd16E729AC9A26BFaE460b26b9C4dc13a6D62436F\",\"0.11336892 ETH\",\"0.000680950924353 ETH\",\"32.426234493 Gwei\"]  # Replace with your extracted data\n",
        "sheet.append(data)\n",
        "\n",
        "# Save the Excel workbook\n",
        "workbook.save(\"scraped_data.xlsx\")\n",
        "\n",
        "print(\"Data scraped and saved to scraped_data.xlsx\")\n"
      ],
      "metadata": {
        "colab": {
          "base_uri": "https://localhost:8080/"
        },
        "id": "Iin43YOR40-6",
        "outputId": "3ff64f79-88b4-4bfe-e390-6aec411251c5"
      },
      "execution_count": null,
      "outputs": [
        {
          "output_type": "stream",
          "name": "stdout",
          "text": [
            "Data scraped and saved to scraped_data.xlsx\n"
          ]
        }
      ]
    }
  ]
}